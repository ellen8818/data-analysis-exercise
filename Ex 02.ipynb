{
 "cells": [
  {
   "cell_type": "code",
   "execution_count": 1,
   "id": "3a00a777",
   "metadata": {},
   "outputs": [
    {
     "name": "stdout",
     "output_type": "stream",
     "text": [
      "[1 2 3]\n"
     ]
    }
   ],
   "source": [
    "import numpy as np\n",
    "data=[2,3,1,1,2,2]\n",
    "target=np.unique(data)\n",
    "print(target)"
   ]
  },
  {
   "cell_type": "code",
   "execution_count": 2,
   "id": "70c155b2",
   "metadata": {},
   "outputs": [
    {
     "name": "stdout",
     "output_type": "stream",
     "text": [
      "[ 1  2  3  5  6  7  8  9 10]\n"
     ]
    }
   ],
   "source": [
    "item=[[1,2,3],[5,6,7],[8,9,10]]\n",
    "item=np.ravel(item)\n",
    "print(item)"
   ]
  },
  {
   "cell_type": "code",
   "execution_count": 3,
   "id": "a3d0f441",
   "metadata": {},
   "outputs": [
    {
     "name": "stdout",
     "output_type": "stream",
     "text": [
      "[-7.00000000e+00 -6.80000000e+00 -6.60000000e+00 -6.40000000e+00\n",
      " -6.20000000e+00 -6.00000000e+00 -5.80000000e+00 -5.60000000e+00\n",
      " -5.40000000e+00 -5.20000000e+00 -5.00000000e+00 -4.80000000e+00\n",
      " -4.60000000e+00 -4.40000000e+00 -4.20000000e+00 -4.00000000e+00\n",
      " -3.80000000e+00 -3.60000000e+00 -3.40000000e+00 -3.20000000e+00\n",
      " -3.00000000e+00 -2.80000000e+00 -2.60000000e+00 -2.40000000e+00\n",
      " -2.20000000e+00 -2.00000000e+00 -1.80000000e+00 -1.60000000e+00\n",
      " -1.40000000e+00 -1.20000000e+00 -1.00000000e+00 -8.00000000e-01\n",
      " -6.00000000e-01 -4.00000000e-01 -2.00000000e-01  6.21724894e-15\n",
      "  2.00000000e-01  4.00000000e-01  6.00000000e-01  8.00000000e-01\n",
      "  1.00000000e+00  1.20000000e+00  1.40000000e+00  1.60000000e+00\n",
      "  1.80000000e+00  2.00000000e+00  2.20000000e+00  2.40000000e+00\n",
      "  2.60000000e+00  2.80000000e+00  3.00000000e+00  3.20000000e+00\n",
      "  3.40000000e+00  3.60000000e+00  3.80000000e+00  4.00000000e+00\n",
      "  4.20000000e+00  4.40000000e+00  4.60000000e+00  4.80000000e+00\n",
      "  5.00000000e+00  5.20000000e+00  5.40000000e+00  5.60000000e+00\n",
      "  5.80000000e+00  6.00000000e+00  6.20000000e+00  6.40000000e+00\n",
      "  6.60000000e+00  6.80000000e+00]\n"
     ]
    }
   ],
   "source": [
    "r=np.arange(-7,7,0.2)\n",
    "print(r)"
   ]
  },
  {
   "cell_type": "code",
   "execution_count": 4,
   "id": "59c529c4",
   "metadata": {},
   "outputs": [
    {
     "data": {
      "text/plain": [
       "[(0, 1), (1, 2), (2, 3)]"
      ]
     },
     "execution_count": 4,
     "metadata": {},
     "output_type": "execute_result"
    }
   ],
   "source": [
    "a=enumerate(target)\n",
    "list(a)"
   ]
  },
  {
   "cell_type": "code",
   "execution_count": null,
   "id": "92db5b08",
   "metadata": {},
   "outputs": [],
   "source": []
  },
  {
   "cell_type": "code",
   "execution_count": 5,
   "id": "f46161a9",
   "metadata": {},
   "outputs": [],
   "source": [
    "import matplotlib.pyplot as plt"
   ]
  },
  {
   "cell_type": "code",
   "execution_count": 6,
   "id": "fe52a82f",
   "metadata": {},
   "outputs": [],
   "source": [
    "x=np.array([1,2,3,4])\n",
    "y=np.array([7,6,5])\n",
    "xx,yy=np.meshgrid(x,y)"
   ]
  },
  {
   "cell_type": "code",
   "execution_count": 7,
   "id": "8fb2ab4a",
   "metadata": {},
   "outputs": [
    {
     "name": "stdout",
     "output_type": "stream",
     "text": [
      "[1 2 3 4]\n"
     ]
    }
   ],
   "source": [
    "print(x)"
   ]
  },
  {
   "cell_type": "code",
   "execution_count": 8,
   "id": "1136f867",
   "metadata": {},
   "outputs": [
    {
     "name": "stdout",
     "output_type": "stream",
     "text": [
      "[7 6 5]\n"
     ]
    }
   ],
   "source": [
    "print(y)"
   ]
  },
  {
   "cell_type": "code",
   "execution_count": 9,
   "id": "5ee0097d",
   "metadata": {},
   "outputs": [
    {
     "name": "stdout",
     "output_type": "stream",
     "text": [
      "[[1 2 3 4]\n",
      " [1 2 3 4]\n",
      " [1 2 3 4]]\n"
     ]
    }
   ],
   "source": [
    "print(xx)"
   ]
  },
  {
   "cell_type": "code",
   "execution_count": 10,
   "id": "9cefcfe2",
   "metadata": {},
   "outputs": [
    {
     "name": "stdout",
     "output_type": "stream",
     "text": [
      "[[7 7 7 7]\n",
      " [6 6 6 6]\n",
      " [5 5 5 5]]\n"
     ]
    }
   ],
   "source": [
    "print(yy)"
   ]
  },
  {
   "cell_type": "code",
   "execution_count": 12,
   "id": "20449be7",
   "metadata": {},
   "outputs": [
    {
     "data": {
      "text/plain": [
       "[<matplotlib.lines.Line2D at 0x19caa2ad550>,\n",
       " <matplotlib.lines.Line2D at 0x19caa2ad580>,\n",
       " <matplotlib.lines.Line2D at 0x19caa2ad5e0>,\n",
       " <matplotlib.lines.Line2D at 0x19caa2ad6a0>]"
      ]
     },
     "execution_count": 12,
     "metadata": {},
     "output_type": "execute_result"
    },
    {
     "data": {
      "image/png": "[encoded data removed]",
      "text/plain": [
       "<Figure size 432x288 with 1 Axes>"
      ]
     },
     "metadata": {
      "needs_background": "light"
     },
     "output_type": "display_data"
    }
   ],
   "source": [
    "plt.plot(xx,yy,marker='s',color='r',linestyle=\"none\")"
   ]
  },
  {
   "cell_type": "code",
   "execution_count": null,
   "id": "2e2fddae",
   "metadata": {},
   "outputs": [],
   "source": []
  }
 ],
 "metadata": {
  "kernelspec": {
   "display_name": "Python 3",
   "language": "python",
   "name": "python3"
  },
  "language_info": {
   "codemirror_mode": {
    "name": "ipython",
    "version": 3
   },
   "file_extension": ".py",
   "mimetype": "text/x-python",
   "name": "python",
   "nbconvert_exporter": "python",
   "pygments_lexer": "ipython3",
   "version": "3.8.8"
  }
 },
 "nbformat": 4,
 "nbformat_minor": 5
}
